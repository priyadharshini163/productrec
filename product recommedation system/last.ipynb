{
 "cells": [
  {
   "cell_type": "code",
   "execution_count": 3,
   "id": "2a171dd7",
   "metadata": {},
   "outputs": [],
   "source": [
    "import streamlit as st\n",
    "import pandas as pd\n",
    "import mysql.connector\n",
    "import hashlib\n",
    "import base64"
   ]
  },
  {
   "cell_type": "code",
   "execution_count": 4,
   "id": "7da61ae9",
   "metadata": {},
   "outputs": [],
   "source": [
    "from sklearn.feature_extraction.text import TfidfVectorizer\n",
    "from sklearn.metrics.pairwise import cosine_similarity"
   ]
  },
  {
   "cell_type": "code",
   "execution_count": 5,
   "id": "3d5261af",
   "metadata": {},
   "outputs": [
    {
     "name": "stderr",
     "output_type": "stream",
     "text": [
      "2025-04-11 15:53:02.419 WARNING streamlit.runtime.scriptrunner_utils.script_run_context: Thread 'MainThread': missing ScriptRunContext! This warning can be ignored when running in bare mode.\n",
      "2025-04-11 15:53:03.799 \n",
      "  \u001b[33m\u001b[1mWarning:\u001b[0m to view this Streamlit app on a browser, run it with the following\n",
      "  command:\n",
      "\n",
      "    streamlit run C:\\Users\\priya\\anaconda3\\Lib\\site-packages\\ipykernel_launcher.py [ARGUMENTS]\n",
      "2025-04-11 15:53:03.803 Thread 'MainThread': missing ScriptRunContext! This warning can be ignored when running in bare mode.\n",
      "2025-04-11 15:53:03.807 Thread 'MainThread': missing ScriptRunContext! This warning can be ignored when running in bare mode.\n",
      "2025-04-11 15:53:03.808 Session state does not function when running a script without `streamlit run`\n",
      "2025-04-11 15:53:03.810 Thread 'MainThread': missing ScriptRunContext! This warning can be ignored when running in bare mode.\n",
      "2025-04-11 15:53:03.811 Thread 'MainThread': missing ScriptRunContext! This warning can be ignored when running in bare mode.\n",
      "2025-04-11 15:53:03.812 Thread 'MainThread': missing ScriptRunContext! This warning can be ignored when running in bare mode.\n",
      "2025-04-11 15:53:03.813 Thread 'MainThread': missing ScriptRunContext! This warning can be ignored when running in bare mode.\n",
      "2025-04-11 15:53:03.815 Thread 'MainThread': missing ScriptRunContext! This warning can be ignored when running in bare mode.\n",
      "2025-04-11 15:53:03.816 Thread 'MainThread': missing ScriptRunContext! This warning can be ignored when running in bare mode.\n",
      "2025-04-11 15:53:03.818 Thread 'MainThread': missing ScriptRunContext! This warning can be ignored when running in bare mode.\n",
      "2025-04-11 15:53:03.819 Thread 'MainThread': missing ScriptRunContext! This warning can be ignored when running in bare mode.\n",
      "2025-04-11 15:53:03.826 Thread 'MainThread': missing ScriptRunContext! This warning can be ignored when running in bare mode.\n",
      "2025-04-11 15:53:03.828 Thread 'MainThread': missing ScriptRunContext! This warning can be ignored when running in bare mode.\n",
      "2025-04-11 15:53:03.829 Thread 'MainThread': missing ScriptRunContext! This warning can be ignored when running in bare mode.\n"
     ]
    }
   ],
   "source": [
    "def set_background(image_path):\n",
    "    \"\"\"Set background image in Streamlit.\"\"\"\n",
    "    with open(image_path, \"rb\") as image_file:\n",
    "        encoded_string = base64.b64encode(image_file.read()).decode()\n",
    "\n",
    "    bg_image_style = f\"\"\"\n",
    "    <style>\n",
    "    .stApp {{\n",
    "        background-image: url(\"data:image/png;base64,{encoded_string}\");\n",
    "        background-size: cover;\n",
    "        background-repeat: no-repeat;\n",
    "        background-position: center;\n",
    "    }}\n",
    "    </style>\n",
    "    \"\"\"\n",
    "    st.markdown(bg_image_style, unsafe_allow_html=True)\n",
    "\n",
    "# ✅ Call the function with your image path\n",
    "set_background(\"C:\\\\Users\\\\priya\\\\Downloads\\\\basketimg.png\")\n",
    "# --- Initialize session state ---\n",
    "if \"logged_in\" not in st.session_state:\n",
    "    st.session_state[\"logged_in\"] = False\n",
    "if \"username\" not in st.session_state:\n",
    "    st.session_state[\"username\"] = \"\"\n",
    "if \"recent\" not in st.session_state:\n",
    "    st.session_state[\"recent\"] = []\n",
    "if \"cart\" not in st.session_state:\n",
    "    st.session_state[\"cart\"] = []"
   ]
  },
  {
   "cell_type": "code",
   "execution_count": 6,
   "id": "936874d3",
   "metadata": {},
   "outputs": [],
   "source": [
    "# --- MySQL Database Connection ---\n",
    "def create_connection():\n",
    "    return mysql.connector.connect(\n",
    "        host=\"localhost\",   # e.g., \"localhost\"\n",
    "        user=\"root\",   # e.g., \"root\"\n",
    "        password=\"\",\n",
    "        database=\"product_recommender\"\n",
    "    )"
   ]
  },
  {
   "cell_type": "code",
   "execution_count": 7,
   "id": "d5c12911",
   "metadata": {},
   "outputs": [],
   "source": [
    "# Function to hash passwords\n",
    "def hash_password(password):\n",
    "    return hashlib.sha256(password.encode()).hexdigest()"
   ]
  },
  {
   "cell_type": "code",
   "execution_count": 9,
   "id": "23698113",
   "metadata": {},
   "outputs": [],
   "source": [
    "# Function to check if user exists\n",
    "def check_user_exists(username):\n",
    "    conn = create_connection()\n",
    "    cursor = conn.cursor()\n",
    "    cursor.execute(\"SELECT * FROM users WHERE username = %s\", (username,))\n",
    "    user = cursor.fetchone()\n",
    "    conn.close()\n",
    "    return user"
   ]
  },
  {
   "cell_type": "code",
   "execution_count": 10,
   "id": "138f9b2e",
   "metadata": {},
   "outputs": [],
   "source": [
    "def signup_user(username, password):\n",
    "    if check_user_exists(username):\n",
    "        return False\n",
    "    conn = create_connection()\n",
    "    cursor = conn.cursor()\n",
    "    hashed_pw = hash_password(password)\n",
    "    cursor.execute(\"INSERT INTO users (username, password_hash) VALUES (%s, %s)\", (username, hashed_pw))\n",
    "    conn.commit()\n",
    "    conn.close()\n",
    "    return True"
   ]
  },
  {
   "cell_type": "code",
   "execution_count": 11,
   "id": "c4290b5d",
   "metadata": {},
   "outputs": [],
   "source": [
    "# Function to login user\n",
    "def login_user(username, password):\n",
    "    user = check_user_exists(username)\n",
    "    if user and user[2] == hash_password(password):  # user[2] is password_hash\n",
    "        st.session_state[\"logged_in\"] = True\n",
    "        st.session_state[\"username\"] = username\n",
    "        return True\n",
    "    return False"
   ]
  },
  {
   "cell_type": "code",
   "execution_count": 12,
   "id": "2bb0c4ad",
   "metadata": {},
   "outputs": [],
   "source": [
    "# Function to logout\n",
    "def logout():\n",
    "    st.session_state[\"logged_in\"] = False\n",
    "    st.session_state.pop(\"username\", None)"
   ]
  },
  {
   "cell_type": "code",
   "execution_count": 13,
   "id": "5a0b1bd5",
   "metadata": {},
   "outputs": [
    {
     "name": "stderr",
     "output_type": "stream",
     "text": [
      "2025-04-11 15:53:30.477 No runtime found, using MemoryCacheStorageManager\n",
      "2025-04-11 15:53:30.480 No runtime found, using MemoryCacheStorageManager\n",
      "2025-04-11 15:53:30.482 Thread 'MainThread': missing ScriptRunContext! This warning can be ignored when running in bare mode.\n",
      "2025-04-11 15:53:30.484 Thread 'MainThread': missing ScriptRunContext! This warning can be ignored when running in bare mode.\n",
      "2025-04-11 15:53:30.485 Thread 'MainThread': missing ScriptRunContext! This warning can be ignored when running in bare mode.\n",
      "2025-04-11 15:53:30.902 Thread 'MainThread': missing ScriptRunContext! This warning can be ignored when running in bare mode.\n",
      "2025-04-11 15:53:30.903 Thread 'MainThread': missing ScriptRunContext! This warning can be ignored when running in bare mode.\n"
     ]
    }
   ],
   "source": [
    "@st.cache_data\n",
    "def load_data():\n",
    "    data = pd.read_csv(\"marketing_sample_for_walmart_com-walmart_com_product_review__20200701_20201231__5k_data.tsv\", sep='\\t')\n",
    "    data = data[['Product Id', 'Product Name', 'Product Rating', 'Product Image Url', 'Product Description', 'Product Tags']]\n",
    "    data.fillna(\"\", inplace=True)\n",
    "    data[\"Product Rating\"] = pd.to_numeric(data[\"Product Rating\"], errors=\"coerce\")  # Ensure numeric\n",
    "     # Add dummy price column\n",
    "    data[\"Price\"] = (data.index % 10 + 1) * 10  # Example prices: 10, 20, ..., 100\n",
    "    return data\n",
    "\n",
    "# ✅ Load it into a variable\n",
    "data = load_data()"
   ]
  },
  {
   "cell_type": "code",
   "execution_count": 14,
   "id": "e701f230",
   "metadata": {},
   "outputs": [],
   "source": [
    "# Compute TF-IDF similarity\n",
    "tfidf = TfidfVectorizer(stop_words='english')\n",
    "tfidf_matrix = tfidf.fit_transform(data['Product Tags'] + \" \" + data['Product Description'])\n",
    "similarity_matrix = cosine_similarity(tfidf_matrix, tfidf_matrix)"
   ]
  },
  {
   "cell_type": "code",
   "execution_count": 15,
   "id": "5ed0fb14",
   "metadata": {},
   "outputs": [],
   "source": [
    "def recommend_products(product_name, num_recommendations=5, min_rating=0):\n",
    "    idx = data[data['Product Name'].str.contains(product_name, case=False, na=False)].index\n",
    "    if len(idx) == 0:\n",
    "        return []\n",
    "    idx = idx[0]\n",
    "    scores = list(enumerate(similarity_matrix[idx]))\n",
    "    scores = sorted(scores, key=lambda x: x[1], reverse=True)\n",
    "\n",
    "    recommendations = []\n",
    "    for i in scores[1:]:\n",
    "        product = data.iloc[i[0]]\n",
    "        if product['Product Rating'] >= min_rating:\n",
    "            recommendations.append(product)\n",
    "        if len(recommendations) == num_recommendations:\n",
    "            break\n",
    "    return recommendations"
   ]
  },
  {
   "cell_type": "code",
   "execution_count": 16,
   "id": "ae9bbbb9",
   "metadata": {},
   "outputs": [],
   "source": [
    "# --- Cart Functions ---\n",
    "def add_to_cart(product):\n",
    "    st.session_state[\"cart\"].append(product)\n",
    "    st.success(f\"🛒 '{product['Product Name']}' added to cart!\")"
   ]
  },
  {
   "cell_type": "code",
   "execution_count": 17,
   "id": "a500eb99",
   "metadata": {},
   "outputs": [],
   "source": [
    "def remove_from_cart(product_id):\n",
    "    st.session_state[\"cart\"] = [p for p in st.session_state[\"cart\"] if p[\"Product Id\"] != product_id]\n",
    "    st.success(\"✅ Removed from cart\")"
   ]
  },
  {
   "cell_type": "code",
   "execution_count": 18,
   "id": "3371a40b",
   "metadata": {},
   "outputs": [],
   "source": [
    "def save_cart_to_db(username, product):\n",
    "    conn = create_connection()\n",
    "    cursor = conn.cursor()\n",
    "    cursor.execute(\"\"\"\n",
    "        INSERT INTO orders (username, product_id, product_name, product_price)\n",
    "        VALUES (%s, %s, %s, %s)\n",
    "    \"\"\", (username, product['Product Id'], product['Product Name'], product['Price']))\n",
    "    conn.commit()\n",
    "    conn.close()"
   ]
  },
  {
   "cell_type": "code",
   "execution_count": 19,
   "id": "d0d3a49e",
   "metadata": {},
   "outputs": [],
   "source": [
    "def load_cart_from_db(username):\n",
    "    conn = create_connection()\n",
    "    cursor = conn.cursor()\n",
    "    cursor.execute(\"SELECT product_id FROM orders WHERE username = %s\", (username,))\n",
    "    product_ids = [row[0] for row in cursor.fetchall()]\n",
    "    conn.close()\n",
    "    st.session_state[\"cart\"] = data[data['Product Id'].isin(product_ids)].to_dict('records')"
   ]
  },
  {
   "cell_type": "code",
   "execution_count": 20,
   "id": "cae2a184",
   "metadata": {},
   "outputs": [],
   "source": [
    "def add_to_favorites(username, product_id):\n",
    "    try:\n",
    "        conn = create_connection()\n",
    "        cursor = conn.cursor()\n",
    "        cursor.execute(\"INSERT IGNORE INTO favorites (username, product_id) VALUES (%s, %s)\", (username, product_id))\n",
    "        conn.commit()\n",
    "    except Exception as e:\n",
    "        st.error(f\"Error adding to favorites: {e}\")\n",
    "    finally:\n",
    "        conn.close()\n"
   ]
  },
  {
   "cell_type": "code",
   "execution_count": 21,
   "id": "b3f2fc9f",
   "metadata": {},
   "outputs": [],
   "source": [
    "def view_cart():\n",
    "    st.title(\"🛒 Your Cart\")\n",
    "    if not st.session_state[\"cart\"]:\n",
    "        st.info(\"Your cart is empty.\")\n",
    "    else:\n",
    "        total_items = len(st.session_state[\"cart\"])\n",
    "        st.markdown(f\"### You have {total_items} item(s) in your cart:\")\n",
    "        for product in st.session_state[\"cart\"]:\n",
    "            with st.container():\n",
    "                cols = st.columns([1, 3])\n",
    "                with cols[0]:\n",
    "                    st.image(product['Product Image Url'], width=100)\n",
    "                with cols[1]:\n",
    "                    st.markdown(f\"**{product['Product Name']}**\")\n",
    "                    st.markdown(f\"⭐ **Rating:** {product['Product Rating']}\")\n",
    "                    st.markdown(f\"*{product['Product Description'][:150]}...*\")\n",
    "                    st.markdown(f\"*{product['Product Description'][:150]}...*\")\n",
    "                with cols[2]:\n",
    "                    if st.button(\"❌ Remove\", key=f\"remove_{product['Product Id']}\"):\n",
    "                        remove_from_cart(product['Product Id'])\n",
    "                        st.experimental_rerun()\n",
    "        st.markdown(f\"### 🧾 Total: ${total_price:.2f}\")\n",
    "        if st.button(\"✅ Confirm Order\"):\n",
    "            st.success(\"🎉 Order confirmed! (Simulation)\")\n",
    "            st.session_state[\"cart\"] = []"
   ]
  },
  {
   "cell_type": "code",
   "execution_count": 22,
   "id": "6a08e4c2",
   "metadata": {},
   "outputs": [],
   "source": [
    "# --- Streamlit UI ---\n",
    "def login_page():\n",
    "    st.title(\"🔐 Login to Product Recommender\")\n",
    "\n",
    "    option = st.radio(\"Choose an option:\", [\"Login\", \"Sign Up\"])\n",
    "\n",
    "    username = st.text_input(\"👤 Username\")\n",
    "    password = st.text_input(\"🔑 Password\", type=\"password\")\n",
    "\n",
    "    if option == \"Login\":\n",
    "        if st.button(\"Login\"):\n",
    "            if login_user(username, password):\n",
    "                st.success(f\"🎉 Welcome {username}!\")\n",
    "                st.rerun()\n",
    "\n",
    "            else:\n",
    "                st.error(\"❌ Invalid username or password.\")\n",
    "    \n",
    "    elif option == \"Sign Up\":\n",
    "        if st.button(\"Sign Up\"):\n",
    "            if signup_user(username, password):\n",
    "                st.success(\"✅ Account created successfully! Please log in.\")\n",
    "            else:\n",
    "                st.error(\"⚠️ Username already exists. Try a different one.\")\n"
   ]
  },
  {
   "cell_type": "code",
   "execution_count": 23,
   "id": "0741bb43",
   "metadata": {},
   "outputs": [],
   "source": [
    "def home_page():\n",
    "    st.markdown(\"<h1 style='text-align: center;'>🏠 Welcome to the Product Recommendation System</h1>\", unsafe_allow_html=True)\n",
    "    st.markdown(\"<p style='text-align: center;'>🛍️ Discover personalized products tailored to your taste!</p>\", unsafe_allow_html=True)\n",
    "\n",
    "    st.markdown(\"## 🔥 Trending Products\")\n",
    "\n",
    "    # Dummy trending product list if not already set\n",
    "    if \"trending\" not in st.session_state:\n",
    "        st.session_state[\"trending\"] = [\n",
    "            {\n",
    "                \n",
    "                \"Product Id\": 3,\n",
    "                \"Product Name\": \"Velvet Matte Lipstick\",\n",
    "                \"Product Description\": \"A long-lasting, highly pigmented matte lipstick that glides on smoothly and stays put all day.\",\n",
    "                \"Product Rating\": 4.5,\n",
    "                \"Product Review\": \"The color is stunning and it doesn't dry out my lips. A must-have!\",\n",
    "                \"Price\": 19.99,\n",
    "                \"Product Image Url\": \"C:\\\\Users\\\\priya\\\\Downloads\\\\lipstick.png\"\n",
    "\n",
    "            },\n",
    "            {\n",
    "                \"Product Id\": 2,\n",
    "                \"Product Name\": \"Smart Watch\",\n",
    "                \"Product Description\": \"...\",\n",
    "                \"Product Rating\": 4.6,\n",
    "                \"Product Review\": \"Tracks my fitness perfectly and looks great.\",\n",
    "                \"Price\": 79.99,\n",
    "                \"Product Image Url\": \"C:\\\\Users\\\\priya\\\\Downloads\\\\smart watch.png\"\n",
    "            },\n",
    "            {\n",
    "                \"Product Id\": 101,\n",
    "                \"Product Name\": \"Wireless Headphones\",\n",
    "                \"Product Description\": \"High-quality over-ear headphones...\",\n",
    "                \"Product Rating\": 4.7,\n",
    "                \"Product Review\": \"These are the best headphones I've ever used!\",\n",
    "                \"Price\": 59.99,\n",
    "                \"Product Image Url\":\"C:\\\\Users\\\\priya\\\\Downloads\\\\headphone.png\"\n",
    "            }\n",
    "        ]\n",
    "\n",
    "    trending_products = st.session_state[\"trending\"]\n",
    "\n",
    "    if not trending_products:\n",
    "        st.info(\"No trending products available right now.\")\n",
    "        return\n",
    "\n",
    "    for product in trending_products:\n",
    "        with st.container():\n",
    "            cols = st.columns([1, 3])\n",
    "            with cols[0]:\n",
    "                try:\n",
    "                    st.image(product[\"Product Image Url\"], use_container_width=True)\n",
    "                except:\n",
    "                    st.image(\"https://via.placeholder.com/150?text=No+Image\", use_container_width=True)\n",
    "            with cols[1]:\n",
    "                st.markdown(f\"### **{product['Product Name']}**\")\n",
    "                st.markdown(f\"⭐ **Rating:** {product['Product Rating']} &nbsp;&nbsp; 💰 **Price:** ${product['Price']:.2f}\")\n",
    "                st.markdown(f\"📝 **Trending Review:** *{product['Product Review']}*\")\n",
    "        st.markdown(\"---\")"
   ]
  },
  {
   "cell_type": "code",
   "execution_count": 24,
   "id": "df3b2355",
   "metadata": {},
   "outputs": [
    {
     "name": "stderr",
     "output_type": "stream",
     "text": [
      "2025-04-11 15:54:06.539 Thread 'MainThread': missing ScriptRunContext! This warning can be ignored when running in bare mode.\n",
      "2025-04-11 15:54:06.543 Thread 'MainThread': missing ScriptRunContext! This warning can be ignored when running in bare mode.\n"
     ]
    }
   ],
   "source": [
    "def recommendation_page():\n",
    "    st.title(\"🛍️ Product Recommendation System\")\n",
    "\n",
    "    st.sidebar.write(f\"👋 Welcome, {st.session_state['username']}\")\n",
    "    if st.sidebar.button(\"Logout\"):\n",
    "        logout()\n",
    "        st.rerun()\n",
    "    \n",
    "    st.sidebar.subheader(\"🌟 Top Rated Products\")\n",
    "    top_rated = data.sort_values(by=\"Product Rating\", ascending=False).head(5)\n",
    "    for _, row in top_rated.iterrows():\n",
    "        st.sidebar.markdown(f\"**{row['Product Name']}** — ⭐ {row['Product Rating']}\")\n",
    "    \n",
    "\n",
    "    product_input = st.text_input(\"🔍 Enter a product name:\")\n",
    "    if \"recent\" not in st.session_state:\n",
    "        st.session_state[\"recent\"] = []\n",
    "    \n",
    "    min_rating = st.slider(\"Minimum Product Rating\", min_value=1.0, max_value=5.0, step=0.5, value=3.0)\n",
    "   \n",
    "    if product_input and st.button(\"Get Recommendations\"):\n",
    "    # Track recently viewed\n",
    "        st.session_state[\"recent\"].append(product_input)\n",
    "        st.session_state[\"recent\"] = st.session_state[\"recent\"][-5:]\n",
    "        \n",
    "        recommendations = recommend_products(product_input, min_rating=min_rating)\n",
    "\n",
    "        if recommendations:\n",
    "            st.subheader(\"🛒 Recommended Products\")\n",
    "            for product in recommendations:\n",
    "                st.image(product['Product Image Url'], width=150)\n",
    "                st.write(f\"**{product['Product Name']}**\")\n",
    "                st.write(f\"⭐ Rating: {product['Product Rating']}\")\n",
    "                # ❤️ Add to Favorites button\n",
    "                if st.button(f\"❤️ Add to Favorites\", key=product['Product Id']):\n",
    "                    add_to_favorites(st.session_state[\"username\"], product['Product Id'])\n",
    "                    st.success(\"Added to Favorites!\")\n",
    "        else:\n",
    "            st.warning(\"⚠️ No recommendations found. Try a different product name.\")\n",
    "# Show recently viewed products\n",
    "if \"recent\" in st.session_state and st.session_state[\"recent\"]:\n",
    "    st.subheader(\"🕓 Recently Viewed:\")\n",
    "    for p in st.session_state[\"recent\"]:\n",
    "        st.markdown(f\"- {p}\")"
   ]
  },
  {
   "cell_type": "code",
   "execution_count": 25,
   "id": "911d25f2",
   "metadata": {},
   "outputs": [],
   "source": [
    "def favorites_page():\n",
    "    st.title(\"❤️ Your Favorite Products\")\n",
    "\n",
    "    username = st.session_state.get(\"username\")\n",
    "    if not username:\n",
    "        st.warning(\"Please log in to view your favorites.\")\n",
    "        return\n",
    "\n",
    "    try:\n",
    "        conn = create_connection()\n",
    "        cursor = conn.cursor()\n",
    "        cursor.execute(\"SELECT product_id FROM favorites WHERE username = %s\", (username,))\n",
    "        favorite_ids = [row[0] for row in cursor.fetchall()]\n",
    "        conn.close()\n",
    "    except Exception as e:\n",
    "        st.error(f\"Error fetching favorites: {e}\")\n",
    "        return\n",
    "\n",
    "    fav_products = data[data[\"Product Id\"].isin(favorite_ids)]\n",
    "\n",
    "    if not fav_products.empty:\n",
    "        for _, row in fav_products.iterrows():\n",
    "            with st.container():\n",
    "                cols = st.columns([1, 3])\n",
    "                with cols[0]:\n",
    "                    if row[\"Product Image Url\"]:\n",
    "                        st.image(row[\"Product Image Url\"], width=120)\n",
    "                    else:\n",
    "                        st.image(\"https://via.placeholder.com/120x150?text=No+Image\", width=120)\n",
    "                with cols[1]:\n",
    "                    st.markdown(f\"**{row['Product Name']}**\")\n",
    "                    st.markdown(f\"⭐ **Rating:** {row['Product Rating']}\")\n",
    "                    st.markdown(f\"*{row['Product Description'][:150]}...*\")\n",
    "    else:\n",
    "        st.info(\"You haven’t added any favorites yet.\")\n"
   ]
  },
  {
   "cell_type": "code",
   "execution_count": 26,
   "id": "e821e34f",
   "metadata": {},
   "outputs": [
    {
     "name": "stderr",
     "output_type": "stream",
     "text": [
      "2025-04-11 15:54:09.302 Thread 'MainThread': missing ScriptRunContext! This warning can be ignored when running in bare mode.\n",
      "2025-04-11 15:54:09.304 Thread 'MainThread': missing ScriptRunContext! This warning can be ignored when running in bare mode.\n",
      "2025-04-11 15:54:09.308 Thread 'MainThread': missing ScriptRunContext! This warning can be ignored when running in bare mode.\n",
      "2025-04-11 15:54:09.309 Thread 'MainThread': missing ScriptRunContext! This warning can be ignored when running in bare mode.\n",
      "2025-04-11 15:54:09.312 Thread 'MainThread': missing ScriptRunContext! This warning can be ignored when running in bare mode.\n",
      "2025-04-11 15:54:09.317 Thread 'MainThread': missing ScriptRunContext! This warning can be ignored when running in bare mode.\n",
      "2025-04-11 15:54:09.320 Thread 'MainThread': missing ScriptRunContext! This warning can be ignored when running in bare mode.\n",
      "2025-04-11 15:54:09.325 Thread 'MainThread': missing ScriptRunContext! This warning can be ignored when running in bare mode.\n",
      "2025-04-11 15:54:09.331 Thread 'MainThread': missing ScriptRunContext! This warning can be ignored when running in bare mode.\n",
      "2025-04-11 15:54:09.333 Thread 'MainThread': missing ScriptRunContext! This warning can be ignored when running in bare mode.\n",
      "2025-04-11 15:54:09.335 Thread 'MainThread': missing ScriptRunContext! This warning can be ignored when running in bare mode.\n",
      "2025-04-11 15:54:09.336 Thread 'MainThread': missing ScriptRunContext! This warning can be ignored when running in bare mode.\n",
      "2025-04-11 15:54:09.337 Thread 'MainThread': missing ScriptRunContext! This warning can be ignored when running in bare mode.\n",
      "2025-04-11 15:54:09.339 Thread 'MainThread': missing ScriptRunContext! This warning can be ignored when running in bare mode.\n",
      "2025-04-11 15:54:09.341 Thread 'MainThread': missing ScriptRunContext! This warning can be ignored when running in bare mode.\n",
      "2025-04-11 15:54:09.343 Thread 'MainThread': missing ScriptRunContext! This warning can be ignored when running in bare mode.\n",
      "2025-04-11 15:54:09.344 Thread 'MainThread': missing ScriptRunContext! This warning can be ignored when running in bare mode.\n",
      "2025-04-11 15:54:09.345 Thread 'MainThread': missing ScriptRunContext! This warning can be ignored when running in bare mode.\n",
      "2025-04-11 15:54:09.346 Thread 'MainThread': missing ScriptRunContext! This warning can be ignored when running in bare mode.\n",
      "2025-04-11 15:54:09.347 Thread 'MainThread': missing ScriptRunContext! This warning can be ignored when running in bare mode.\n",
      "2025-04-11 15:54:09.348 Thread 'MainThread': missing ScriptRunContext! This warning can be ignored when running in bare mode.\n",
      "2025-04-11 15:54:09.351 Thread 'MainThread': missing ScriptRunContext! This warning can be ignored when running in bare mode.\n",
      "2025-04-11 15:54:09.353 Thread 'MainThread': missing ScriptRunContext! This warning can be ignored when running in bare mode.\n",
      "2025-04-11 15:54:09.354 Thread 'MainThread': missing ScriptRunContext! This warning can be ignored when running in bare mode.\n",
      "2025-04-11 15:54:09.356 Thread 'MainThread': missing ScriptRunContext! This warning can be ignored when running in bare mode.\n",
      "2025-04-11 15:54:09.357 Thread 'MainThread': missing ScriptRunContext! This warning can be ignored when running in bare mode.\n"
     ]
    }
   ],
   "source": [
    "if not st.session_state[\"logged_in\"]:\n",
    "    login_page()\n",
    "else:\n",
    "    st.sidebar.title(\"📂 Navigate\")\n",
    "    page = st.sidebar.radio(\"Go to:\", [\"🏠 Home\", \"🛒 Recommend\", \"❤️ Favorites\"])  # ✅ Add \"❤️ Favorites\" here\n",
    "\n",
    "    if page == \"🏠 Home\":\n",
    "        home_page()\n",
    "    elif page == \"🛒 Recommend\":\n",
    "        recommendation_page()\n",
    "    elif page == \"❤️ Favorites\":          # ✅ Add this condition\n",
    "        favorites_page()\n",
    "    elif page == \"🛍️ Cart\":\n",
    "        view_cart()"
   ]
  },
  {
   "cell_type": "code",
   "execution_count": 27,
   "id": "aac94e25",
   "metadata": {},
   "outputs": [
    {
     "name": "stderr",
     "output_type": "stream",
     "text": [
      "[NbConvertApp] Converting notebook last.ipynb to script\n",
      "[NbConvertApp] Writing 14640 bytes to last.py\n"
     ]
    }
   ],
   "source": [
    "!jupyter nbconvert --to script last.ipynb"
   ]
  },
  {
   "cell_type": "code",
   "execution_count": 28,
   "id": "e40b8448",
   "metadata": {},
   "outputs": [
    {
     "name": "stderr",
     "output_type": "stream",
     "text": [
      "[NbConvertApp] Converting notebook last.ipynb to script\n",
      "[NbConvertApp] Writing 14394 bytes to last.py\n"
     ]
    }
   ],
   "source": [
    "!jupyter nbconvert --to script last.ipynb"
   ]
  },
  {
   "cell_type": "code",
   "execution_count": null,
   "id": "4c6f1cee",
   "metadata": {},
   "outputs": [],
   "source": []
  }
 ],
 "metadata": {
  "kernelspec": {
   "display_name": "Python 3 (ipykernel)",
   "language": "python",
   "name": "python3"
  },
  "language_info": {
   "codemirror_mode": {
    "name": "ipython",
    "version": 3
   },
   "file_extension": ".py",
   "mimetype": "text/x-python",
   "name": "python",
   "nbconvert_exporter": "python",
   "pygments_lexer": "ipython3",
   "version": "3.11.5"
  }
 },
 "nbformat": 4,
 "nbformat_minor": 5
}
