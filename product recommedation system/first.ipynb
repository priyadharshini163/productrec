{
 "cells": [
  {
   "cell_type": "code",
   "execution_count": 1,
   "id": "cb607036",
   "metadata": {},
   "outputs": [],
   "source": [
    "import streamlit as st\n",
    "import pandas as pd\n",
    "import mysql.connector\n",
    "import hashlib\n",
    "import base64\n",
    "import matplotlib.pyplot as plt\n",
    "import os\n",
    "from sklearn.feature_extraction.text import TfidfVectorizer\n",
    "from sklearn.metrics.pairwise import cosine_similarity"
   ]
  },
  {
   "cell_type": "code",
   "execution_count": 2,
   "id": "7acec7b5",
   "metadata": {},
   "outputs": [
    {
     "name": "stderr",
     "output_type": "stream",
     "text": [
      "2025-04-17 13:38:11.556 WARNING streamlit.runtime.scriptrunner_utils.script_run_context: Thread 'MainThread': missing ScriptRunContext! This warning can be ignored when running in bare mode.\n",
      "2025-04-17 13:38:11.560 WARNING streamlit.runtime.state.session_state_proxy: Session state does not function when running a script without `streamlit run`\n",
      "2025-04-17 13:38:11.561 WARNING streamlit.runtime.scriptrunner_utils.script_run_context: Thread 'MainThread': missing ScriptRunContext! This warning can be ignored when running in bare mode.\n",
      "2025-04-17 13:38:11.563 WARNING streamlit.runtime.scriptrunner_utils.script_run_context: Thread 'MainThread': missing ScriptRunContext! This warning can be ignored when running in bare mode.\n",
      "2025-04-17 13:38:11.564 WARNING streamlit.runtime.scriptrunner_utils.script_run_context: Thread 'MainThread': missing ScriptRunContext! This warning can be ignored when running in bare mode.\n",
      "2025-04-17 13:38:11.565 WARNING streamlit.runtime.scriptrunner_utils.script_run_context: Thread 'MainThread': missing ScriptRunContext! This warning can be ignored when running in bare mode.\n",
      "2025-04-17 13:38:11.567 WARNING streamlit.runtime.scriptrunner_utils.script_run_context: Thread 'MainThread': missing ScriptRunContext! This warning can be ignored when running in bare mode.\n",
      "2025-04-17 13:38:11.568 WARNING streamlit.runtime.scriptrunner_utils.script_run_context: Thread 'MainThread': missing ScriptRunContext! This warning can be ignored when running in bare mode.\n",
      "2025-04-17 13:38:11.569 WARNING streamlit.runtime.scriptrunner_utils.script_run_context: Thread 'MainThread': missing ScriptRunContext! This warning can be ignored when running in bare mode.\n",
      "2025-04-17 13:38:11.570 WARNING streamlit.runtime.scriptrunner_utils.script_run_context: Thread 'MainThread': missing ScriptRunContext! This warning can be ignored when running in bare mode.\n",
      "2025-04-17 13:38:11.571 WARNING streamlit.runtime.scriptrunner_utils.script_run_context: Thread 'MainThread': missing ScriptRunContext! This warning can be ignored when running in bare mode.\n",
      "2025-04-17 13:38:11.572 WARNING streamlit.runtime.scriptrunner_utils.script_run_context: Thread 'MainThread': missing ScriptRunContext! This warning can be ignored when running in bare mode.\n",
      "2025-04-17 13:38:11.573 WARNING streamlit.runtime.scriptrunner_utils.script_run_context: Thread 'MainThread': missing ScriptRunContext! This warning can be ignored when running in bare mode.\n"
     ]
    }
   ],
   "source": [
    "# 🔒 Initialize session state at the start\n",
    "def init_session_state():\n",
    "    defaults = {\n",
    "        \"logged_in\": False,\n",
    "        \"username\": \"\",\n",
    "        \"recent\": [],\n",
    "        \"cart\": [],\n",
    "    }\n",
    "    for key, value in defaults.items():\n",
    "        if key not in st.session_state:\n",
    "            st.session_state[key] = value\n",
    "\n",
    "init_session_state()"
   ]
  },
  {
   "cell_type": "code",
   "execution_count": 3,
   "id": "902bfdcb",
   "metadata": {},
   "outputs": [
    {
     "name": "stderr",
     "output_type": "stream",
     "text": [
      "2025-04-17 13:38:11.713 WARNING streamlit.runtime.scriptrunner_utils.script_run_context: Thread 'MainThread': missing ScriptRunContext! This warning can be ignored when running in bare mode.\n",
      "2025-04-17 13:38:12.445 \n",
      "  \u001b[33m\u001b[1mWarning:\u001b[0m to view this Streamlit app on a browser, run it with the following\n",
      "  command:\n",
      "\n",
      "    streamlit run C:\\Users\\priya\\anaconda3\\Lib\\site-packages\\ipykernel_launcher.py [ARGUMENTS]\n",
      "2025-04-17 13:38:12.447 Thread 'MainThread': missing ScriptRunContext! This warning can be ignored when running in bare mode.\n"
     ]
    }
   ],
   "source": [
    "def set_background(image_path):\n",
    "    if os.path.exists(image_path):\n",
    "        with open(image_path, \"rb\") as image_file:\n",
    "            encoded_string = base64.b64encode(image_file.read()).decode()\n",
    "        bg_image_style = f\"\"\"\n",
    "        <style>\n",
    "        .stApp {{\n",
    "            background-image: url(\"data:image/png;base64,{encoded_string}\");\n",
    "            background-size: cover;\n",
    "            background-repeat: no-repeat;\n",
    "            background-position: center;\n",
    "        }}\n",
    "        </style>\n",
    "        \"\"\"\n",
    "        st.markdown(bg_image_style, unsafe_allow_html=True)\n",
    "    else:\n",
    "        st.warning(\"Background image not found.\")\n",
    "\n",
    "set_background(\"C:\\\\Users\\\\priya\\\\Downloads\\\\basketimg.png\")\n"
   ]
  },
  {
   "cell_type": "code",
   "execution_count": 4,
   "id": "47552aaf",
   "metadata": {},
   "outputs": [],
   "source": [
    "# ---------- MySQL Connection ----------\n",
    "def create_connection():\n",
    "    try:\n",
    "        return mysql.connector.connect(\n",
    "            host=\"localhost\",\n",
    "            user=\"root\",\n",
    "            password=\"\",\n",
    "            database=\"product_recommender\"\n",
    "        )\n",
    "    except mysql.connector.Error as e:\n",
    "        st.error(f\"Database connection failed: {e}\")\n",
    "        return None"
   ]
  },
  {
   "cell_type": "code",
   "execution_count": null,
   "id": "7d28107d",
   "metadata": {},
   "outputs": [],
   "source": [
    "# ---------- Create Orders Table ----------\n",
    "def create_orders_table():\n",
    "    conn = create_connection()\n",
    "    if conn:\n",
    "        cursor = conn.cursor()\n",
    "        cursor.execute(\"\"\"\n",
    "        CREATE TABLE IF NOT EXISTS orders (\n",
    "            id INT AUTO_INCREMENT PRIMARY KEY,\n",
    "            username VARCHAR(255),\n",
    "            product_id VARCHAR(255),\n",
    "            product_name TEXT,\n",
    "            product_price FLOAT,\n",
    "            created_at TIMESTAMP DEFAULT CURRENT_TIMESTAMP\n",
    "        )\n",
    "        \"\"\")\n",
    "        conn.commit()\n",
    "        conn.close()\n",
    "\n",
    "create_orders_table()"
   ]
  },
  {
   "cell_type": "code",
   "execution_count": null,
   "id": "e9e05d7c",
   "metadata": {},
   "outputs": [],
   "source": [
    "# Auth Helpers\n",
    "\n",
    "def hash_password(password):\n",
    "    return hashlib.sha256(password.encode()).hexdigest()\n",
    "\n",
    "def check_user_exists(username):\n",
    "    conn = create_connection()\n",
    "    cursor = conn.cursor()\n",
    "    cursor.execute(\"SELECT * FROM users WHERE username = %s\", (username,))\n",
    "    user = cursor.fetchone()\n",
    "    conn.close()\n",
    "    return user\n",
    "\n",
    "def signup_user(username, password):\n",
    "    if check_user_exists(username):\n",
    "        return False\n",
    "    conn = create_connection()\n",
    "    if not conn:\n",
    "        return False\n",
    "    cursor = conn.cursor()\n",
    "    cursor.execute(\"INSERT INTO users (username, password_hash) VALUES (%s, %s)\", (username, hash_password(password)))\n",
    "    conn.commit()\n",
    "    conn.close()\n",
    "    return True"
   ]
  },
  {
   "cell_type": "code",
   "execution_count": null,
   "id": "dbcdfc47",
   "metadata": {},
   "outputs": [],
   "source": [
    "def login_user(username, password):\n",
    "    user = check_user_exists(username)\n",
    "    if user and user[2] == hash_password(password):\n",
    "        st.session_state.logged_in = True\n",
    "        st.session_state.username = username\n",
    "        return True\n",
    "    return False"
   ]
  },
  {
   "cell_type": "code",
   "execution_count": null,
   "id": "e833f0f0",
   "metadata": {},
   "outputs": [],
   "source": [
    "def logout():\n",
    "    st.session_state.logged_in = False\n",
    "    st.session_state.username = \"\"\n",
    "    st.session_state.cart = []\n",
    "    st.rerun()"
   ]
  },
  {
   "cell_type": "code",
   "execution_count": null,
   "id": "a47798d6",
   "metadata": {},
   "outputs": [],
   "source": [
    "# ---------- Load Product Data ----------\n",
    "@st.cache_data\n",
    "def load_data():\n",
    "    data = pd.read_csv(\"marketing_sample_for_walmart_com-walmart_com_product_review__20200701_20201231__5k_data.tsv\", sep='\\t')\n",
    "    data = data[['Product Id', 'Product Name', 'Product Rating', 'Product Image Url', 'Product Description', 'Product Tags']].fillna(\"\")\n",
    "    data['Price'] = (data.index % 10 + 1) * 10\n",
    "    data[\"Product Rating\"] = pd.to_numeric(data[\"Product Rating\"], errors=\"coerce\")\n",
    "    return data\n",
    "\n",
    "data = load_data()"
   ]
  },
  {
   "cell_type": "code",
   "execution_count": null,
   "id": "72597ed6",
   "metadata": {},
   "outputs": [],
   "source": [
    "# ---------- Recommendation Logic ----------\n",
    "@st.cache_resource\n",
    "def compute_similarity_matrix(data):\n",
    "    vectorizer = TfidfVectorizer(stop_words='english')\n",
    "    tfidf_matrix = vectorizer.fit_transform(data['Product Tags'] + \" \" + data['Product Description'])\n",
    "    return cosine_similarity(tfidf_matrix, tfidf_matrix)\n",
    "\n",
    "similarity_matrix = compute_similarity_matrix(data)"
   ]
  },
  {
   "cell_type": "code",
   "execution_count": null,
   "id": "5e0c7ded",
   "metadata": {},
   "outputs": [],
   "source": [
    "def recommend_products(name, min_rating=3.0):\n",
    "    idx = data[data['Product Name'].str.contains(name, case=False)].index\n",
    "    if not len(idx): return []\n",
    "    scores = sorted(list(enumerate(similarity_matrix[idx[0]])), key=lambda x: x[1], reverse=True)\n",
    "    return [data.iloc[i[0]] for i in scores[1:] if data.iloc[i[0]]['Product Rating'] >= min_rating][:5]\n"
   ]
  },
  {
   "cell_type": "code",
   "execution_count": null,
   "id": "74fb5639",
   "metadata": {},
   "outputs": [],
   "source": [
    "# ---------- Save Order ----------\n",
    "def save_to_db(product):\n",
    "    conn = create_connection()\n",
    "    if conn:\n",
    "        cursor = conn.cursor()\n",
    "        cursor.execute(\n",
    "            \"INSERT INTO orders (username, product_id, product_name, product_price) VALUES (%s, %s, %s, %s)\",\n",
    "            (st.session_state.username, product['Product Id'], product['Product Name'], product['Price'])\n",
    "        )\n",
    "        conn.commit()\n",
    "        conn.close()"
   ]
  },
  {
   "cell_type": "code",
   "execution_count": null,
   "id": "a07b9236",
   "metadata": {},
   "outputs": [],
   "source": [
    "# ---------- Pages ----------\n",
    "def login_page():\n",
    "    st.title(\"🔐 Login\")\n",
    "    choice = st.radio(\"\", [\"Login\", \"Sign Up\"])\n",
    "    user = st.text_input(\"Username\")\n",
    "    pw = st.text_input(\"Password\", type=\"password\")\n",
    "    if st.button(choice):\n",
    "        success = login_user(user, pw) if choice == \"Login\" else signup_user(user, pw)\n",
    "        if success:\n",
    "            st.rerun()\n",
    "        else:\n",
    "            st.error(\"Invalid login or signup failed.\")"
   ]
  },
  {
   "cell_type": "code",
   "execution_count": null,
   "id": "f84ea7d6",
   "metadata": {},
   "outputs": [],
   "source": [
    "def home_page():\n",
    "    st.title(\"🏠 Home\")\n",
    "    st.subheader(\"🔥 Trending Products\")\n",
    "    for product in data.head(5).to_dict('records'):\n",
    "        st.image(product['Product Image Url'], width=150)\n",
    "        st.markdown(f\"\"\"\n",
    "        **{product['Product Name']}**\n",
    "        ⭐ {product['Product Rating']} | 💰 ${product['Price']}\n",
    "        📝 {product['Product Description']}\n",
    "        \"\"\")\n",
    "        if st.button(\"🛒 Add to Cart\", key=f\"home_{product['Product Id']}\"):\n",
    "            st.session_state.cart.append(product)\n",
    "            st.success(\"Added to cart!\")\n"
   ]
  },
  {
   "cell_type": "code",
   "execution_count": null,
   "id": "9f5c1e38-5665-41d3-b5d3-7b6cb0b49cb8",
   "metadata": {},
   "outputs": [],
   "source": [
    "def top_rated_page():\n",
    "    st.title(\"🌟 Top Rated Products\")\n",
    "    top_rated = data[data[\"Product Rating\"] >= 4.5].sort_values(by=\"Product Rating\", ascending=False).head(10)\n",
    "    for product in top_rated.to_dict('records'):\n",
    "        st.image(product['Product Image Url'], width=150)\n",
    "        st.markdown(f\"**{product['Product Name']}** - ⭐ {product['Product Rating']} - 💰 ${product['Price']}\\n📝 {product['Product Description']}\")\n",
    "        if st.button(\"🛒 Add to Cart\", key=f\"toprated_{product['Product Id']}\"):\n",
    "            st.session_state.cart.append(product)\n",
    "            st.success(\"Added to cart!\")\n"
   ]
  },
  {
   "cell_type": "code",
   "execution_count": 2,
   "id": "5c94f1c4",
   "metadata": {},
   "outputs": [],
   "source": [
    "def recommend_page():\n",
    "    st.title(\"🛍 Recommendations\")\n",
    "    name = st.text_input(\"Product Name\")\n",
    "    rating = st.slider(\"Min Rating\", 1.0, 5.0, 3.0, 0.5)\n",
    "\n",
    "    # Initialize cart and buy_now_product in session state if not already set\n",
    "    if 'recommendations' not in st.session_state:\n",
    "        st.session_state.recommendations = []\n",
    "    if 'cart' not in st.session_state:\n",
    "        st.session_state.cart = []\n",
    "    if 'buy_now_product' not in st.session_state:\n",
    "        st.session_state.buy_now_product = None\n",
    "\n",
    "    # Get recommendations\n",
    "    if st.button(\"Get Recommendations\"):\n",
    "        st.session_state.recommendations = recommend_products(name, rating)\n",
    "        st.session_state.buy_now_product = None  # Clear previous buy_now_product\n",
    "\n",
    "    # Display recommendations if available\n",
    "    if 'recommendations' in st.session_state:\n",
    "        for product in st.session_state.recommendations:\n",
    "            st.image(product['Product Image Url'], width=150)\n",
    "            st.markdown(\n",
    "                f\"**{product['Product Name']}** - ⭐ {product['Product Rating']} - 💰 ${product['Price']}\\n\\n\"\n",
    "                f\"📝 {product['Product Description']}\"\n",
    "            )\n",
    "\n",
    "            col1, col2 = st.columns([1, 1])\n",
    "            with col1:\n",
    "                if st.button(f\"Add to Cart: {product['Product Name']}\", key=\"cart_\" + str(product['Product Id'])):\n",
    "                    st.session_state.cart.append(product)\n",
    "                    st.success(\"Added to cart\")\n",
    "            with col2:\n",
    "                if st.button(f\"Buy Now: {product['Product Name']}\", key=\"buy_\" + str(product['Product Id'])):\n",
    "                    # Set the product to the buy_now_product session state when clicked\n",
    "                    st.session_state.buy_now_product = product.to_dict() if hasattr(product, \"to_dict\") else product\n",
    "\n",
    "\n",
    "    # Buy Now form (show only when a product is selected)\n",
    "    if st.session_state.buy_now_product is not None:\n",
    "        st.markdown(\"## 🧾 Purchase Details\")\n",
    "        st.image(st.session_state.buy_now_product['Product Image Url'], width=200)\n",
    "        st.markdown(f\"**{st.session_state.buy_now_product['Product Name']}** - 💰 ${st.session_state.buy_now_product['Price']}\")\n",
    "        st.write(\"DEBUG - Selected Product for Buy Now:\", st.session_state.buy_now_product)\n",
    "\n",
    "\n",
    "        # Name and address form fields\n",
    "        buyer_name = st.text_input(\"Your Name\")\n",
    "        address = st.text_area(\"Delivery Address\")\n",
    "\n",
    "        # Handle the purchase confirmation\n",
    "        if st.button(\"Confirm Purchase\"):\n",
    "            if buyer_name and address:\n",
    "                # Simulate order processing\n",
    "                st.success(f\"Thank you, {buyer_name}! Your order for {st.session_state.buy_now_product['Product Name']} has been placed.\")\n",
    "                \n",
    "                # Save the order to the database\n",
    "                save_to_db(st.session_state.buy_now_product)\n",
    "\n",
    "                # Reset the buy_now_product after order is placed\n",
    "                st.session_state.buy_now_product = None  \n",
    "            else:\n",
    "                st.error(\"Please provide your name and address before confirming the purchase.\")"
   ]
  },
  {
   "cell_type": "code",
   "execution_count": null,
   "id": "9e329cdf-db95-48eb-9276-d6817d4507e8",
   "metadata": {},
   "outputs": [],
   "source": [
    "def analytics_dashboard():\n",
    "    st.title(\"📊 Analytics Dashboard\")\n",
    "    st.subheader(\"Average Rating by Product\")\n",
    "    avg_rating = data.groupby(\"Product Name\")[\"Product Rating\"].mean().sort_values(ascending=False).head(10)\n",
    "    st.bar_chart(avg_rating)\n",
    "    st.subheader(\"Rating Distribution\")\n",
    "    st.bar_chart(data[\"Product Rating\"].value_counts().sort_index())"
   ]
  },
  {
   "cell_type": "code",
   "execution_count": null,
   "id": "b7090936",
   "metadata": {},
   "outputs": [],
   "source": [
    "def cart_page():\n",
    "    st.title(\"🛒 Cart\")\n",
    "    total = 0\n",
    "    for item in st.session_state.cart:\n",
    "        st.image(item['Product Image Url'], width=150)\n",
    "        st.markdown(f\"**{item['Product Name']}** - 💰 ${item['Price']}\")\n",
    "        total += item['Price']\n",
    "    st.markdown(f\"### Total: ${total}\")\n",
    "    if st.button(\"✅ Checkout\"):\n",
    "        for item in st.session_state.cart:\n",
    "            save_to_db(item)\n",
    "        st.session_state.cart.clear()\n",
    "        st.success(\"Order placed\")"
   ]
  },
  {
   "cell_type": "code",
   "execution_count": null,
   "id": "8fbca6ab",
   "metadata": {},
   "outputs": [],
   "source": [
    "def profile_page():\n",
    "    st.title(f\"👤 Profile - {st.session_state.username}\")\n",
    "    st.subheader(\"🧾 Order History\")\n",
    "    \n",
    "    conn = create_connection()\n",
    "    if conn:\n",
    "        cursor = conn.cursor()\n",
    "        cursor.execute(\"\"\"\n",
    "            SELECT product_name, product_price, created_at \n",
    "            FROM orders \n",
    "            WHERE username = %s \n",
    "            ORDER BY created_at DESC\n",
    "        \"\"\", (st.session_state.username,))\n",
    "        orders = cursor.fetchall()\n",
    "        conn.close()\n",
    "\n",
    "        if orders:\n",
    "            for name, price, date in orders:\n",
    "                st.markdown(f\"**{name}** - 💰 ${price} on 📅 {date.strftime('%Y-%m-%d %H:%M:%S')}\")\n",
    "        else:\n",
    "            st.info(\"No orders found.\")\n",
    "    else:\n",
    "        st.error(\"Could not connect to the database.\")"
   ]
  },
  {
   "cell_type": "code",
   "execution_count": null,
   "id": "5bb240fb",
   "metadata": {},
   "outputs": [],
   "source": [
    "def search_page():\n",
    "    st.title(\"🔎 Search Products\")\n",
    "    query = st.text_input(\"Search by name or tag\")\n",
    "    rating = st.slider(\"Minimum Rating\", 1.0, 5.0, 3.0, 0.5)\n",
    "    filtered = data[\n",
    "        data[\"Product Name\"].str.contains(query, case=False) |\n",
    "        data[\"Product Tags\"].str.contains(query, case=False)\n",
    "    ]\n",
    "    filtered = filtered[filtered[\"Product Rating\"] >= rating]\n",
    "    for product in filtered.to_dict('records'):\n",
    "        st.image(product['Product Image Url'], width=150)\n",
    "        st.markdown(f\"**{product['Product Name']}** - ⭐ {product['Product Rating']} - 💰 ${product['Price']}\\n📝 {product['Product Description']}\")\n",
    "        if st.button(f\"Add to Cart\", key=f\"search_{product['Product Id']}\"):\n",
    "            st.session_state.cart.append(product)\n",
    "            st.success(\"Added to cart!\")"
   ]
  },
  {
   "cell_type": "code",
   "execution_count": null,
   "id": "a0336089",
   "metadata": {},
   "outputs": [],
   "source": [
    "# ---------- Add Product Page ----------\n",
    "def add_product_page():\n",
    "    st.title(\"📦 Add New Product\")\n",
    "    with st.form(\"add_product_form\"):\n",
    "        product_id = st.text_input(\"Product ID\")\n",
    "        name = st.text_input(\"Product Name\")\n",
    "        rating = st.slider(\"Product Rating\", 1.0, 5.0, 3.0, 0.5)\n",
    "        description = st.text_area(\"Product Description\")\n",
    "        tags = st.text_input(\"Product Tags\")\n",
    "        price = st.number_input(\"Price\", min_value=0.0, step=1.0)\n",
    "        image_file = st.file_uploader(\"Upload Product Image\", type=[\"jpg\", \"jpeg\", \"png\"])\n",
    "\n",
    "        submitted = st.form_submit_button(\"Add Product\")\n",
    "        if submitted:\n",
    "            if not all([product_id, name, description, tags, price, image_file]):\n",
    "                st.warning(\"Please fill all fields and upload an image.\")\n",
    "            else:\n",
    "                # Save image to static/images\n",
    "                os.makedirs(\"static/images\", exist_ok=True)\n",
    "                image_path = os.path.join(\"static/images\", image_file.name)\n",
    "                with open(image_path, \"wb\") as f:\n",
    "                    f.write(image_file.getbuffer())\n",
    "                image_url = f\"static/images/{image_file.name}\"\n",
    "\n",
    "                # Append to TSV file\n",
    "                new_row = pd.DataFrame([{\n",
    "                    'Product Id': product_id,\n",
    "                    'Product Name': name,\n",
    "                    'Product Rating': rating,\n",
    "                    'Product Image Url': image_url,\n",
    "                    'Product Description': description,\n",
    "                    'Product Tags': tags,\n",
    "                    'Price': price\n",
    "                }])\n",
    "\n",
    "                new_row.to_csv(\"marketing_sample_for_walmart_com-walmart_com_product_review__20200701_20201231__5k_data.tsv\", mode='a', sep='\\t', header=False, index=False)\n",
    "                st.success(\"✅ Product added successfully!\")"
   ]
  },
  {
   "cell_type": "code",
   "execution_count": null,
   "id": "ea7c3189",
   "metadata": {},
   "outputs": [],
   "source": [
    "# ---------- Main App ----------\n",
    "if not st.session_state.logged_in:\n",
    "    login_page()\n",
    "else:\n",
    "    page = st.sidebar.radio(\"Go to:\", [\n",
    "        \"🏠 Home\",\n",
    "        \"🌟 Top Rated\",\n",
    "        \"🛍 Recommendations\",\n",
    "        \"🔎 Search\",\n",
    "        \"📊 Analytics\",\n",
    "        \"🛒 Cart\",\n",
    "        \"👤 Profile\",\n",
    "        \"📦 Add Product\",     \n",
    "        \"🔓 Logout\"\n",
    "    ])\n",
    "\n",
    "    if page == \"🏠 Home\":\n",
    "        home_page()\n",
    "    elif page == \"🌟 Top Rated\":\n",
    "        top_rated_page()\n",
    "    elif page == \"🛍 Recommendations\":\n",
    "        recommend_page()\n",
    "    elif page == \"🔎 Search\":\n",
    "        search_page()\n",
    "    elif page == \"📊 Analytics\":\n",
    "        analytics_dashboard()\n",
    "    elif page == \"🛒 Cart\":\n",
    "        cart_page()\n",
    "    elif page == \"👤 Profile\":\n",
    "        profile_page()\n",
    "    elif page == \"📦 Add Product\":\n",
    "        add_product_page()\n",
    "    elif page == \"🔓 Logout\":\n",
    "        logout()"
   ]
  },
  {
   "cell_type": "code",
   "execution_count": 1,
   "id": "f968bbd2",
   "metadata": {},
   "outputs": [
    {
     "name": "stderr",
     "output_type": "stream",
     "text": [
      "[NbConvertApp] Converting notebook first.ipynb to script\n",
      "[NbConvertApp] Writing 15525 bytes to first.py\n"
     ]
    }
   ],
   "source": [
    "!jupyter nbconvert --to script first.ipynb"
   ]
  },
  {
   "cell_type": "code",
   "execution_count": 3,
   "id": "064ca8a2",
   "metadata": {},
   "outputs": [
    {
     "name": "stderr",
     "output_type": "stream",
     "text": [
      "[NbConvertApp] Converting notebook first.ipynb to script\n",
      "[NbConvertApp] Writing 15434 bytes to first.py\n"
     ]
    }
   ],
   "source": [
    "!jupyter nbconvert --to script first.ipynb"
   ]
  },
  {
   "cell_type": "code",
   "execution_count": 4,
   "id": "08650f2c",
   "metadata": {},
   "outputs": [
    {
     "name": "stderr",
     "output_type": "stream",
     "text": [
      "[NbConvertApp] Converting notebook first.ipynb to script\n",
      "[NbConvertApp] Writing 15010 bytes to first.py\n"
     ]
    }
   ],
   "source": [
    "!jupyter nbconvert --to script first.ipynb"
   ]
  },
  {
   "cell_type": "code",
   "execution_count": null,
   "id": "f5d62c67",
   "metadata": {},
   "outputs": [],
   "source": []
  }
 ],
 "metadata": {
  "kernelspec": {
   "display_name": "Python 3 (ipykernel)",
   "language": "python",
   "name": "python3"
  },
  "language_info": {
   "codemirror_mode": {
    "name": "ipython",
    "version": 3
   },
   "file_extension": ".py",
   "mimetype": "text/x-python",
   "name": "python",
   "nbconvert_exporter": "python",
   "pygments_lexer": "ipython3",
   "version": "3.11.5"
  }
 },
 "nbformat": 4,
 "nbformat_minor": 5
}
